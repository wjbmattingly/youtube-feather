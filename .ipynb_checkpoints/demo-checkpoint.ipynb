{
 "cells": [
  {
   "cell_type": "code",
   "execution_count": 81,
   "id": "22d0d56a-4594-46d3-9570-aef60ac6a045",
   "metadata": {},
   "outputs": [],
   "source": [
    "import pandas as pd\n",
    "import spacy\n",
    "from spacy.tokens import DocBin"
   ]
  },
  {
   "cell_type": "markdown",
   "id": "e58459cb-df1b-442a-b51b-460780a368ce",
   "metadata": {},
   "source": [
    "# Loading our Data"
   ]
  },
  {
   "cell_type": "code",
   "execution_count": 49,
   "id": "79da9b34-fc91-494a-992e-6d0a8d6730e5",
   "metadata": {},
   "outputs": [],
   "source": [
    "with open(\"docs.txt\", \"r\") as f:\n",
    "    sentences = f.read().splitlines()"
   ]
  },
  {
   "cell_type": "code",
   "execution_count": 99,
   "id": "c14e1fab-bb48-4794-8976-df711d087e61",
   "metadata": {},
   "outputs": [
    {
     "data": {
      "text/plain": [
       "['Steve and Matt are friends.',\n",
       " 'They both work at Google.',\n",
       " 'Steve is American and Matt is Canadian.',\n",
       " 'Steve lives in New York and Matt lives in Toronto.']"
      ]
     },
     "execution_count": 99,
     "metadata": {},
     "output_type": "execute_result"
    }
   ],
   "source": [
    "sentences"
   ]
  },
  {
   "cell_type": "markdown",
   "id": "514f6d56-4859-4698-8d1e-b7fae64b1a30",
   "metadata": {},
   "source": [
    "# Creating our Pipeline and Docs"
   ]
  },
  {
   "cell_type": "code",
   "execution_count": 50,
   "id": "5329cf3e-bff4-48d6-ac38-94e9467a4c42",
   "metadata": {},
   "outputs": [],
   "source": [
    "nlp = spacy.load(\"en_core_web_sm\")"
   ]
  },
  {
   "cell_type": "code",
   "execution_count": 51,
   "id": "322ad83b-fc54-4708-a057-266310a3a3a2",
   "metadata": {},
   "outputs": [],
   "source": [
    "docs = [nlp(doc) for doc in sentences]"
   ]
  },
  {
   "cell_type": "code",
   "execution_count": 52,
   "id": "9957bb9c-689d-448f-8742-8318e0d2e23e",
   "metadata": {},
   "outputs": [
    {
     "data": {
      "text/plain": [
       "[Steve and Matt are friends.,\n",
       " They both work at Google.,\n",
       " Steve is American and Matt is Canadian.,\n",
       " Steve lives in New York and Matt lives in Toronto.]"
      ]
     },
     "execution_count": 52,
     "metadata": {},
     "output_type": "execute_result"
    }
   ],
   "source": [
    "docs"
   ]
  },
  {
   "cell_type": "markdown",
   "id": "f3084265-d574-4134-94ad-5ca0bb4774a3",
   "metadata": {},
   "source": [
    "# Saving with DocBin"
   ]
  },
  {
   "cell_type": "code",
   "execution_count": 86,
   "id": "e785d630-2ce6-4772-8305-4419b7a19600",
   "metadata": {},
   "outputs": [],
   "source": [
    "db = DocBin()"
   ]
  },
  {
   "cell_type": "code",
   "execution_count": 87,
   "id": "536babad-99d0-4adf-b8d4-4a74d2b5d4ac",
   "metadata": {},
   "outputs": [],
   "source": [
    "for doc in docs:\n",
    "    db.add(doc)"
   ]
  },
  {
   "cell_type": "code",
   "execution_count": 88,
   "id": "a5d554d3-22be-474d-ab1f-e2131cc2c1e2",
   "metadata": {},
   "outputs": [
    {
     "data": {
      "text/plain": [
       "4"
      ]
     },
     "execution_count": 88,
     "metadata": {},
     "output_type": "execute_result"
    }
   ],
   "source": [
    "len(db)"
   ]
  },
  {
   "cell_type": "code",
   "execution_count": 89,
   "id": "940d97eb-e0b4-4e73-88ce-bdccfb559a7e",
   "metadata": {},
   "outputs": [],
   "source": [
    "db.to_disk(\"data/db\")"
   ]
  },
  {
   "cell_type": "code",
   "execution_count": 90,
   "id": "9802c6f4-0360-414e-8245-7a1b05cc10b3",
   "metadata": {},
   "outputs": [],
   "source": [
    "new_db = DocBin()"
   ]
  },
  {
   "cell_type": "code",
   "execution_count": 92,
   "id": "aacb1b46-79d1-4eaf-be66-fedbbf58e4c3",
   "metadata": {},
   "outputs": [
    {
     "data": {
      "text/plain": [
       "4"
      ]
     },
     "execution_count": 92,
     "metadata": {},
     "output_type": "execute_result"
    }
   ],
   "source": [
    "new_db.from_disk(\"data/db\")\n",
    "len(new_db)"
   ]
  },
  {
   "cell_type": "code",
   "execution_count": 96,
   "id": "aea4691d-0a56-4c37-8aad-14ae0081d0a8",
   "metadata": {},
   "outputs": [
    {
     "data": {
      "text/plain": [
       "<spacy.tokens._serialize.DocBin at 0x16ccbabf5b0>"
      ]
     },
     "execution_count": 96,
     "metadata": {},
     "output_type": "execute_result"
    }
   ],
   "source": [
    "new_db"
   ]
  },
  {
   "cell_type": "code",
   "execution_count": 97,
   "id": "453d4121-f1dc-421d-b712-878021fc6d9e",
   "metadata": {},
   "outputs": [],
   "source": [
    "new_docs = list(new_db.get_docs(nlp.vocab))"
   ]
  },
  {
   "cell_type": "code",
   "execution_count": 98,
   "id": "26f51ca8-4c32-4abf-a8ed-a0e247420d47",
   "metadata": {},
   "outputs": [
    {
     "name": "stdout",
     "output_type": "stream",
     "text": [
      "Steve and Matt are friends.\n",
      "They both work at Google.\n",
      "Steve is American and Matt is Canadian.\n",
      "Steve lives in New York and Matt lives in Toronto.\n"
     ]
    }
   ],
   "source": [
    "for doc in new_docs:\n",
    "    print(doc)"
   ]
  },
  {
   "cell_type": "code",
   "execution_count": 53,
   "id": "8d9add70-6150-4652-aa9e-f11660cd0299",
   "metadata": {},
   "outputs": [],
   "source": [
    "df = pd.DataFrame()"
   ]
  },
  {
   "cell_type": "code",
   "execution_count": 54,
   "id": "9cc92931-afb3-401a-8873-58c01b88df70",
   "metadata": {},
   "outputs": [],
   "source": [
    "df[\"text\"] = sentences"
   ]
  },
  {
   "cell_type": "code",
   "execution_count": 55,
   "id": "2573d4f2-fc23-45b6-bccd-57f3d4c14f06",
   "metadata": {},
   "outputs": [
    {
     "data": {
      "text/html": [
       "<div>\n",
       "<style scoped>\n",
       "    .dataframe tbody tr th:only-of-type {\n",
       "        vertical-align: middle;\n",
       "    }\n",
       "\n",
       "    .dataframe tbody tr th {\n",
       "        vertical-align: top;\n",
       "    }\n",
       "\n",
       "    .dataframe thead th {\n",
       "        text-align: right;\n",
       "    }\n",
       "</style>\n",
       "<table border=\"1\" class=\"dataframe\">\n",
       "  <thead>\n",
       "    <tr style=\"text-align: right;\">\n",
       "      <th></th>\n",
       "      <th>text</th>\n",
       "    </tr>\n",
       "  </thead>\n",
       "  <tbody>\n",
       "    <tr>\n",
       "      <th>0</th>\n",
       "      <td>Steve and Matt are friends.</td>\n",
       "    </tr>\n",
       "    <tr>\n",
       "      <th>1</th>\n",
       "      <td>They both work at Google.</td>\n",
       "    </tr>\n",
       "    <tr>\n",
       "      <th>2</th>\n",
       "      <td>Steve is American and Matt is Canadian.</td>\n",
       "    </tr>\n",
       "    <tr>\n",
       "      <th>3</th>\n",
       "      <td>Steve lives in New York and Matt lives in Toro...</td>\n",
       "    </tr>\n",
       "  </tbody>\n",
       "</table>\n",
       "</div>"
      ],
      "text/plain": [
       "                                                text\n",
       "0                        Steve and Matt are friends.\n",
       "1                          They both work at Google.\n",
       "2            Steve is American and Matt is Canadian.\n",
       "3  Steve lives in New York and Matt lives in Toro..."
      ]
     },
     "execution_count": 55,
     "metadata": {},
     "output_type": "execute_result"
    }
   ],
   "source": [
    "df"
   ]
  },
  {
   "cell_type": "code",
   "execution_count": null,
   "id": "888c795c-b0ab-4518-b589-a73624348d68",
   "metadata": {},
   "outputs": [],
   "source": []
  },
  {
   "cell_type": "code",
   "execution_count": 63,
   "id": "33bd876c-8f3d-4f91-9ca1-4cf011946b4e",
   "metadata": {},
   "outputs": [
    {
     "data": {
      "text/plain": [
       "[['Steve', 'Matt'], [], ['Steve', 'Matt'], ['Steve', 'Matt']]"
      ]
     },
     "execution_count": 63,
     "metadata": {},
     "output_type": "execute_result"
    }
   ],
   "source": [
    "all_people = []\n",
    "for doc in docs:\n",
    "    people = [ent.text for ent in doc.ents if ent.label_ == \"PERSON\"]\n",
    "    all_people.append(people)\n",
    "all_people"
   ]
  },
  {
   "cell_type": "code",
   "execution_count": 64,
   "id": "c3c66562-c78e-41f8-9738-6a5dc6c492e6",
   "metadata": {},
   "outputs": [],
   "source": [
    "df[\"people\"] = all_people"
   ]
  },
  {
   "cell_type": "code",
   "execution_count": 65,
   "id": "6b5ca68d-d7dd-4330-9263-23534a8ed778",
   "metadata": {},
   "outputs": [
    {
     "data": {
      "text/html": [
       "<div>\n",
       "<style scoped>\n",
       "    .dataframe tbody tr th:only-of-type {\n",
       "        vertical-align: middle;\n",
       "    }\n",
       "\n",
       "    .dataframe tbody tr th {\n",
       "        vertical-align: top;\n",
       "    }\n",
       "\n",
       "    .dataframe thead th {\n",
       "        text-align: right;\n",
       "    }\n",
       "</style>\n",
       "<table border=\"1\" class=\"dataframe\">\n",
       "  <thead>\n",
       "    <tr style=\"text-align: right;\">\n",
       "      <th></th>\n",
       "      <th>text</th>\n",
       "      <th>people</th>\n",
       "    </tr>\n",
       "  </thead>\n",
       "  <tbody>\n",
       "    <tr>\n",
       "      <th>0</th>\n",
       "      <td>Steve and Matt are friends.</td>\n",
       "      <td>[Steve, Matt]</td>\n",
       "    </tr>\n",
       "    <tr>\n",
       "      <th>1</th>\n",
       "      <td>They both work at Google.</td>\n",
       "      <td>[]</td>\n",
       "    </tr>\n",
       "    <tr>\n",
       "      <th>2</th>\n",
       "      <td>Steve is American and Matt is Canadian.</td>\n",
       "      <td>[Steve, Matt]</td>\n",
       "    </tr>\n",
       "    <tr>\n",
       "      <th>3</th>\n",
       "      <td>Steve lives in New York and Matt lives in Toro...</td>\n",
       "      <td>[Steve, Matt]</td>\n",
       "    </tr>\n",
       "  </tbody>\n",
       "</table>\n",
       "</div>"
      ],
      "text/plain": [
       "                                                text         people\n",
       "0                        Steve and Matt are friends.  [Steve, Matt]\n",
       "1                          They both work at Google.             []\n",
       "2            Steve is American and Matt is Canadian.  [Steve, Matt]\n",
       "3  Steve lives in New York and Matt lives in Toro...  [Steve, Matt]"
      ]
     },
     "execution_count": 65,
     "metadata": {},
     "output_type": "execute_result"
    }
   ],
   "source": [
    "df"
   ]
  },
  {
   "cell_type": "code",
   "execution_count": 66,
   "id": "d609fd20-28d8-4195-9de6-d9d6283ecf3e",
   "metadata": {},
   "outputs": [],
   "source": [
    "df.to_csv(\"data/bad.csv\", index=False)"
   ]
  },
  {
   "cell_type": "code",
   "execution_count": 67,
   "id": "2e5621cc-4f64-491e-b14c-31133681f413",
   "metadata": {},
   "outputs": [
    {
     "data": {
      "text/html": [
       "<div>\n",
       "<style scoped>\n",
       "    .dataframe tbody tr th:only-of-type {\n",
       "        vertical-align: middle;\n",
       "    }\n",
       "\n",
       "    .dataframe tbody tr th {\n",
       "        vertical-align: top;\n",
       "    }\n",
       "\n",
       "    .dataframe thead th {\n",
       "        text-align: right;\n",
       "    }\n",
       "</style>\n",
       "<table border=\"1\" class=\"dataframe\">\n",
       "  <thead>\n",
       "    <tr style=\"text-align: right;\">\n",
       "      <th></th>\n",
       "      <th>text</th>\n",
       "      <th>people</th>\n",
       "    </tr>\n",
       "  </thead>\n",
       "  <tbody>\n",
       "    <tr>\n",
       "      <th>0</th>\n",
       "      <td>Steve and Matt are friends.</td>\n",
       "      <td>['Steve', 'Matt']</td>\n",
       "    </tr>\n",
       "    <tr>\n",
       "      <th>1</th>\n",
       "      <td>They both work at Google.</td>\n",
       "      <td>[]</td>\n",
       "    </tr>\n",
       "    <tr>\n",
       "      <th>2</th>\n",
       "      <td>Steve is American and Matt is Canadian.</td>\n",
       "      <td>['Steve', 'Matt']</td>\n",
       "    </tr>\n",
       "    <tr>\n",
       "      <th>3</th>\n",
       "      <td>Steve lives in New York and Matt lives in Toro...</td>\n",
       "      <td>['Steve', 'Matt']</td>\n",
       "    </tr>\n",
       "  </tbody>\n",
       "</table>\n",
       "</div>"
      ],
      "text/plain": [
       "                                                text             people\n",
       "0                        Steve and Matt are friends.  ['Steve', 'Matt']\n",
       "1                          They both work at Google.                 []\n",
       "2            Steve is American and Matt is Canadian.  ['Steve', 'Matt']\n",
       "3  Steve lives in New York and Matt lives in Toro...  ['Steve', 'Matt']"
      ]
     },
     "execution_count": 67,
     "metadata": {},
     "output_type": "execute_result"
    }
   ],
   "source": [
    "bad_df = pd.read_csv(\"data/bad.csv\")\n",
    "bad_df"
   ]
  },
  {
   "cell_type": "code",
   "execution_count": 68,
   "id": "fd1d03f0-5f93-45dc-87b7-6c5f2fed2b31",
   "metadata": {},
   "outputs": [
    {
     "data": {
      "text/plain": [
       "str"
      ]
     },
     "execution_count": 68,
     "metadata": {},
     "output_type": "execute_result"
    }
   ],
   "source": [
    "type(bad_df.people[0])"
   ]
  },
  {
   "cell_type": "code",
   "execution_count": 69,
   "id": "2eb51d73-ea1e-4c18-af43-d5cf3fdae1d1",
   "metadata": {},
   "outputs": [],
   "source": [
    "df.to_feather(\"data/good\")"
   ]
  },
  {
   "cell_type": "code",
   "execution_count": 70,
   "id": "f7f545eb-8875-4c7d-9d8f-1fb888524709",
   "metadata": {},
   "outputs": [
    {
     "data": {
      "text/html": [
       "<div>\n",
       "<style scoped>\n",
       "    .dataframe tbody tr th:only-of-type {\n",
       "        vertical-align: middle;\n",
       "    }\n",
       "\n",
       "    .dataframe tbody tr th {\n",
       "        vertical-align: top;\n",
       "    }\n",
       "\n",
       "    .dataframe thead th {\n",
       "        text-align: right;\n",
       "    }\n",
       "</style>\n",
       "<table border=\"1\" class=\"dataframe\">\n",
       "  <thead>\n",
       "    <tr style=\"text-align: right;\">\n",
       "      <th></th>\n",
       "      <th>text</th>\n",
       "      <th>people</th>\n",
       "    </tr>\n",
       "  </thead>\n",
       "  <tbody>\n",
       "    <tr>\n",
       "      <th>0</th>\n",
       "      <td>Steve and Matt are friends.</td>\n",
       "      <td>[Steve, Matt]</td>\n",
       "    </tr>\n",
       "    <tr>\n",
       "      <th>1</th>\n",
       "      <td>They both work at Google.</td>\n",
       "      <td>[]</td>\n",
       "    </tr>\n",
       "    <tr>\n",
       "      <th>2</th>\n",
       "      <td>Steve is American and Matt is Canadian.</td>\n",
       "      <td>[Steve, Matt]</td>\n",
       "    </tr>\n",
       "    <tr>\n",
       "      <th>3</th>\n",
       "      <td>Steve lives in New York and Matt lives in Toro...</td>\n",
       "      <td>[Steve, Matt]</td>\n",
       "    </tr>\n",
       "  </tbody>\n",
       "</table>\n",
       "</div>"
      ],
      "text/plain": [
       "                                                text         people\n",
       "0                        Steve and Matt are friends.  [Steve, Matt]\n",
       "1                          They both work at Google.             []\n",
       "2            Steve is American and Matt is Canadian.  [Steve, Matt]\n",
       "3  Steve lives in New York and Matt lives in Toro...  [Steve, Matt]"
      ]
     },
     "execution_count": 70,
     "metadata": {},
     "output_type": "execute_result"
    }
   ],
   "source": [
    "good_df = pd.read_feather(\"data/good\")\n",
    "good_df"
   ]
  },
  {
   "cell_type": "code",
   "execution_count": 71,
   "id": "f96a97bb-dbc3-45ab-8f9e-892333f5d6d1",
   "metadata": {},
   "outputs": [
    {
     "data": {
      "text/plain": [
       "numpy.ndarray"
      ]
     },
     "execution_count": 71,
     "metadata": {},
     "output_type": "execute_result"
    }
   ],
   "source": [
    "type(good_df.people[0])"
   ]
  },
  {
   "cell_type": "code",
   "execution_count": 72,
   "id": "f8445712-42cf-40ca-8ab1-5516e4a8b6bb",
   "metadata": {},
   "outputs": [
    {
     "data": {
      "text/plain": [
       "array(['Steve', 'Matt'], dtype=object)"
      ]
     },
     "execution_count": 72,
     "metadata": {},
     "output_type": "execute_result"
    }
   ],
   "source": [
    "good_df.people[0]"
   ]
  },
  {
   "cell_type": "code",
   "execution_count": null,
   "id": "ccf8fc18-c911-4fc2-8533-52463cb012d6",
   "metadata": {},
   "outputs": [],
   "source": []
  },
  {
   "cell_type": "code",
   "execution_count": 73,
   "id": "4c4dc240-b51f-4945-a922-078c56c9c858",
   "metadata": {},
   "outputs": [],
   "source": [
    "# Pickle"
   ]
  },
  {
   "cell_type": "code",
   "execution_count": 74,
   "id": "b6f2159e-fe99-4c0d-ae92-f094a5616e13",
   "metadata": {},
   "outputs": [],
   "source": [
    "good_df[\"spacy_docs\"] = docs"
   ]
  },
  {
   "cell_type": "code",
   "execution_count": 75,
   "id": "374b8ae3-4464-4b0e-8520-7d95b446b6c4",
   "metadata": {},
   "outputs": [
    {
     "data": {
      "text/html": [
       "<div>\n",
       "<style scoped>\n",
       "    .dataframe tbody tr th:only-of-type {\n",
       "        vertical-align: middle;\n",
       "    }\n",
       "\n",
       "    .dataframe tbody tr th {\n",
       "        vertical-align: top;\n",
       "    }\n",
       "\n",
       "    .dataframe thead th {\n",
       "        text-align: right;\n",
       "    }\n",
       "</style>\n",
       "<table border=\"1\" class=\"dataframe\">\n",
       "  <thead>\n",
       "    <tr style=\"text-align: right;\">\n",
       "      <th></th>\n",
       "      <th>text</th>\n",
       "      <th>people</th>\n",
       "      <th>spacy_docs</th>\n",
       "    </tr>\n",
       "  </thead>\n",
       "  <tbody>\n",
       "    <tr>\n",
       "      <th>0</th>\n",
       "      <td>Steve and Matt are friends.</td>\n",
       "      <td>[Steve, Matt]</td>\n",
       "      <td>(Steve, and, Matt, are, friends, .)</td>\n",
       "    </tr>\n",
       "    <tr>\n",
       "      <th>1</th>\n",
       "      <td>They both work at Google.</td>\n",
       "      <td>[]</td>\n",
       "      <td>(They, both, work, at, Google, .)</td>\n",
       "    </tr>\n",
       "    <tr>\n",
       "      <th>2</th>\n",
       "      <td>Steve is American and Matt is Canadian.</td>\n",
       "      <td>[Steve, Matt]</td>\n",
       "      <td>(Steve, is, American, and, Matt, is, Canadian, .)</td>\n",
       "    </tr>\n",
       "    <tr>\n",
       "      <th>3</th>\n",
       "      <td>Steve lives in New York and Matt lives in Toro...</td>\n",
       "      <td>[Steve, Matt]</td>\n",
       "      <td>(Steve, lives, in, New, York, and, Matt, lives...</td>\n",
       "    </tr>\n",
       "  </tbody>\n",
       "</table>\n",
       "</div>"
      ],
      "text/plain": [
       "                                                text         people  \\\n",
       "0                        Steve and Matt are friends.  [Steve, Matt]   \n",
       "1                          They both work at Google.             []   \n",
       "2            Steve is American and Matt is Canadian.  [Steve, Matt]   \n",
       "3  Steve lives in New York and Matt lives in Toro...  [Steve, Matt]   \n",
       "\n",
       "                                          spacy_docs  \n",
       "0                (Steve, and, Matt, are, friends, .)  \n",
       "1                  (They, both, work, at, Google, .)  \n",
       "2  (Steve, is, American, and, Matt, is, Canadian, .)  \n",
       "3  (Steve, lives, in, New, York, and, Matt, lives...  "
      ]
     },
     "execution_count": 75,
     "metadata": {},
     "output_type": "execute_result"
    }
   ],
   "source": [
    "good_df"
   ]
  },
  {
   "cell_type": "code",
   "execution_count": 76,
   "id": "e5c21282-befb-4a25-85f5-0fce89d079d6",
   "metadata": {},
   "outputs": [],
   "source": [
    "good_df.to_pickle(\"data/pickle\")"
   ]
  },
  {
   "cell_type": "code",
   "execution_count": 77,
   "id": "6dd2db55-b624-4f4f-b02f-1204be7dd28e",
   "metadata": {},
   "outputs": [],
   "source": [
    "spacy_df = pd.read_pickle(\"data/pickle\")"
   ]
  },
  {
   "cell_type": "code",
   "execution_count": 78,
   "id": "50c0ffc4-3c9a-4683-abb5-d2b9766860e5",
   "metadata": {},
   "outputs": [
    {
     "data": {
      "text/html": [
       "<div>\n",
       "<style scoped>\n",
       "    .dataframe tbody tr th:only-of-type {\n",
       "        vertical-align: middle;\n",
       "    }\n",
       "\n",
       "    .dataframe tbody tr th {\n",
       "        vertical-align: top;\n",
       "    }\n",
       "\n",
       "    .dataframe thead th {\n",
       "        text-align: right;\n",
       "    }\n",
       "</style>\n",
       "<table border=\"1\" class=\"dataframe\">\n",
       "  <thead>\n",
       "    <tr style=\"text-align: right;\">\n",
       "      <th></th>\n",
       "      <th>text</th>\n",
       "      <th>people</th>\n",
       "      <th>spacy_docs</th>\n",
       "    </tr>\n",
       "  </thead>\n",
       "  <tbody>\n",
       "    <tr>\n",
       "      <th>0</th>\n",
       "      <td>Steve and Matt are friends.</td>\n",
       "      <td>[Steve, Matt]</td>\n",
       "      <td>(Steve, and, Matt, are, friends, .)</td>\n",
       "    </tr>\n",
       "    <tr>\n",
       "      <th>1</th>\n",
       "      <td>They both work at Google.</td>\n",
       "      <td>[]</td>\n",
       "      <td>(They, both, work, at, Google, .)</td>\n",
       "    </tr>\n",
       "    <tr>\n",
       "      <th>2</th>\n",
       "      <td>Steve is American and Matt is Canadian.</td>\n",
       "      <td>[Steve, Matt]</td>\n",
       "      <td>(Steve, is, American, and, Matt, is, Canadian, .)</td>\n",
       "    </tr>\n",
       "    <tr>\n",
       "      <th>3</th>\n",
       "      <td>Steve lives in New York and Matt lives in Toro...</td>\n",
       "      <td>[Steve, Matt]</td>\n",
       "      <td>(Steve, lives, in, New, York, and, Matt, lives...</td>\n",
       "    </tr>\n",
       "  </tbody>\n",
       "</table>\n",
       "</div>"
      ],
      "text/plain": [
       "                                                text         people  \\\n",
       "0                        Steve and Matt are friends.  [Steve, Matt]   \n",
       "1                          They both work at Google.             []   \n",
       "2            Steve is American and Matt is Canadian.  [Steve, Matt]   \n",
       "3  Steve lives in New York and Matt lives in Toro...  [Steve, Matt]   \n",
       "\n",
       "                                          spacy_docs  \n",
       "0                (Steve, and, Matt, are, friends, .)  \n",
       "1                  (They, both, work, at, Google, .)  \n",
       "2  (Steve, is, American, and, Matt, is, Canadian, .)  \n",
       "3  (Steve, lives, in, New, York, and, Matt, lives...  "
      ]
     },
     "execution_count": 78,
     "metadata": {},
     "output_type": "execute_result"
    }
   ],
   "source": [
    "spacy_df"
   ]
  },
  {
   "cell_type": "code",
   "execution_count": 47,
   "id": "59014eed-d9bc-4d6c-8f8c-a4984685f009",
   "metadata": {},
   "outputs": [
    {
     "data": {
      "text/plain": [
       "spacy.tokens.doc.Doc"
      ]
     },
     "execution_count": 47,
     "metadata": {},
     "output_type": "execute_result"
    }
   ],
   "source": [
    "type(spacy_df[\"spacy_docs\"][0])"
   ]
  },
  {
   "cell_type": "code",
   "execution_count": null,
   "id": "b3f8c179-2460-46a3-ae8a-0d109b5f0faf",
   "metadata": {},
   "outputs": [],
   "source": []
  }
 ],
 "metadata": {
  "kernelspec": {
   "display_name": "Python 3 (ipykernel)",
   "language": "python",
   "name": "python3"
  },
  "language_info": {
   "codemirror_mode": {
    "name": "ipython",
    "version": 3
   },
   "file_extension": ".py",
   "mimetype": "text/x-python",
   "name": "python",
   "nbconvert_exporter": "python",
   "pygments_lexer": "ipython3",
   "version": "3.8.5"
  }
 },
 "nbformat": 4,
 "nbformat_minor": 5
}
