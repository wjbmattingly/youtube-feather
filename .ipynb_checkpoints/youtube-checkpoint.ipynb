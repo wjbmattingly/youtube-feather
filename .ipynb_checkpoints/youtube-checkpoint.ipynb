{
 "cells": [
  {
   "cell_type": "code",
   "execution_count": 1,
   "id": "ab525604-04e0-490a-b61f-fd17b045e1bb",
   "metadata": {},
   "outputs": [],
   "source": [
    "import spacy\n",
    "import pandas as pd\n",
    "from spacy.tokens import DocBin"
   ]
  },
  {
   "cell_type": "code",
   "execution_count": 2,
   "id": "70b0255e-9c27-4746-9aee-c35fb13456bc",
   "metadata": {},
   "outputs": [],
   "source": [
    "nlp = spacy.load(\"en_core_web_sm\")"
   ]
  },
  {
   "cell_type": "code",
   "execution_count": 3,
   "id": "39cc4275-709a-4a11-8711-cc01c384cf40",
   "metadata": {},
   "outputs": [],
   "source": [
    "# !spacy -m download en_core_web_sm"
   ]
  },
  {
   "cell_type": "code",
   "execution_count": 4,
   "id": "6811c347-c9d6-458e-9ee3-b5d0d994664d",
   "metadata": {},
   "outputs": [
    {
     "data": {
      "text/plain": [
       "['Steve and Matt are friends.',\n",
       " 'They both work at Google.',\n",
       " 'Steve is American and Matt is Canadian.',\n",
       " 'Steve lives in New York and Matt lives in Toronto.']"
      ]
     },
     "execution_count": 4,
     "metadata": {},
     "output_type": "execute_result"
    }
   ],
   "source": [
    "with open(\"docs.txt\", \"r\") as f:\n",
    "    sentences = f.read().splitlines()\n",
    "sentences"
   ]
  },
  {
   "cell_type": "code",
   "execution_count": 5,
   "id": "61e9e525-2fde-4259-93a7-8ea52fc17c94",
   "metadata": {},
   "outputs": [
    {
     "data": {
      "text/plain": [
       "[Steve and Matt are friends.,\n",
       " They both work at Google.,\n",
       " Steve is American and Matt is Canadian.,\n",
       " Steve lives in New York and Matt lives in Toronto.]"
      ]
     },
     "execution_count": 5,
     "metadata": {},
     "output_type": "execute_result"
    }
   ],
   "source": [
    "docs = []\n",
    "for sentence in sentences:\n",
    "    doc = nlp(sentence)\n",
    "    docs.append(doc)\n",
    "docs"
   ]
  },
  {
   "cell_type": "code",
   "execution_count": 6,
   "id": "aa481795-bf32-4c47-9f68-61db117ed95d",
   "metadata": {},
   "outputs": [
    {
     "data": {
      "text/plain": [
       "spacy.tokens.doc.Doc"
      ]
     },
     "execution_count": 6,
     "metadata": {},
     "output_type": "execute_result"
    }
   ],
   "source": [
    "type(docs[0])"
   ]
  },
  {
   "cell_type": "code",
   "execution_count": 7,
   "id": "34c22703-c0ff-4d38-bd78-1f941b56c7c1",
   "metadata": {},
   "outputs": [],
   "source": [
    "db = DocBin()"
   ]
  },
  {
   "cell_type": "code",
   "execution_count": 8,
   "id": "0346cd4d-d65b-4d3c-afa0-21f145db9a01",
   "metadata": {},
   "outputs": [],
   "source": [
    "for doc in docs:\n",
    "    db.add(doc)"
   ]
  },
  {
   "cell_type": "code",
   "execution_count": 9,
   "id": "e562350f-f35f-4938-95bc-f40713794454",
   "metadata": {},
   "outputs": [
    {
     "data": {
      "text/plain": [
       "4"
      ]
     },
     "execution_count": 9,
     "metadata": {},
     "output_type": "execute_result"
    }
   ],
   "source": [
    "len(db)"
   ]
  },
  {
   "cell_type": "code",
   "execution_count": 10,
   "id": "c5699b59-e6fc-4b2d-bec6-76282d71002f",
   "metadata": {},
   "outputs": [
    {
     "data": {
      "text/plain": [
       "<spacy.tokens._serialize.DocBin at 0x2813fd285b0>"
      ]
     },
     "execution_count": 10,
     "metadata": {},
     "output_type": "execute_result"
    }
   ],
   "source": [
    "db"
   ]
  },
  {
   "cell_type": "code",
   "execution_count": 11,
   "id": "274eb232-fa9f-417e-8737-e6569cbef0fb",
   "metadata": {},
   "outputs": [],
   "source": [
    "db.to_disk(\"data/db\")"
   ]
  },
  {
   "cell_type": "code",
   "execution_count": 12,
   "id": "fb8eaff9-6e21-49f9-a48b-07e7450cfcd7",
   "metadata": {},
   "outputs": [],
   "source": [
    "new_db = DocBin()"
   ]
  },
  {
   "cell_type": "code",
   "execution_count": 13,
   "id": "41d5d557-b8ef-46c4-9977-e6cb7a260c14",
   "metadata": {},
   "outputs": [
    {
     "data": {
      "text/plain": [
       "<spacy.tokens._serialize.DocBin at 0x2813fd28ca0>"
      ]
     },
     "execution_count": 13,
     "metadata": {},
     "output_type": "execute_result"
    }
   ],
   "source": [
    "new_db.from_disk(\"data/db\")\n",
    "new_db"
   ]
  },
  {
   "cell_type": "code",
   "execution_count": 14,
   "id": "1f0082ea-f3f5-4110-9ba1-eda8cd4132d8",
   "metadata": {},
   "outputs": [
    {
     "ename": "TypeError",
     "evalue": "'DocBin' object is not subscriptable",
     "output_type": "error",
     "traceback": [
      "\u001b[1;31m---------------------------------------------------------------------------\u001b[0m",
      "\u001b[1;31mTypeError\u001b[0m                                 Traceback (most recent call last)",
      "Input \u001b[1;32mIn [14]\u001b[0m, in \u001b[0;36m<cell line: 1>\u001b[1;34m()\u001b[0m\n\u001b[1;32m----> 1\u001b[0m \u001b[43mnew_db\u001b[49m\u001b[43m[\u001b[49m\u001b[38;5;241;43m0\u001b[39;49m\u001b[43m]\u001b[49m\n",
      "\u001b[1;31mTypeError\u001b[0m: 'DocBin' object is not subscriptable"
     ]
    }
   ],
   "source": [
    "new_db[0]"
   ]
  },
  {
   "cell_type": "code",
   "execution_count": 15,
   "id": "4ea8b586-7f3d-4560-9191-d2910dee18da",
   "metadata": {},
   "outputs": [
    {
     "data": {
      "text/plain": [
       "<generator object DocBin.get_docs at 0x00000281443B3DD0>"
      ]
     },
     "execution_count": 15,
     "metadata": {},
     "output_type": "execute_result"
    }
   ],
   "source": [
    "new_db.get_docs(nlp.vocab)"
   ]
  },
  {
   "cell_type": "code",
   "execution_count": 16,
   "id": "ab5db2c1-471e-4f28-83aa-4d30230c82de",
   "metadata": {},
   "outputs": [
    {
     "ename": "TypeError",
     "evalue": "'DocBin' object is not iterable",
     "output_type": "error",
     "traceback": [
      "\u001b[1;31m---------------------------------------------------------------------------\u001b[0m",
      "\u001b[1;31mTypeError\u001b[0m                                 Traceback (most recent call last)",
      "Input \u001b[1;32mIn [16]\u001b[0m, in \u001b[0;36m<cell line: 1>\u001b[1;34m()\u001b[0m\n\u001b[1;32m----> 1\u001b[0m \u001b[38;5;28;01mfor\u001b[39;00m doc \u001b[38;5;129;01min\u001b[39;00m new_db:\n\u001b[0;32m      2\u001b[0m     \u001b[38;5;28mprint\u001b[39m(doc)\n",
      "\u001b[1;31mTypeError\u001b[0m: 'DocBin' object is not iterable"
     ]
    }
   ],
   "source": [
    "for doc in new_db:\n",
    "    print(doc)"
   ]
  },
  {
   "cell_type": "code",
   "execution_count": null,
   "id": "28274286-e154-4450-9370-94ea1953567b",
   "metadata": {},
   "outputs": [],
   "source": []
  }
 ],
 "metadata": {
  "kernelspec": {
   "display_name": "Python 3 (ipykernel)",
   "language": "python",
   "name": "python3"
  },
  "language_info": {
   "codemirror_mode": {
    "name": "ipython",
    "version": 3
   },
   "file_extension": ".py",
   "mimetype": "text/x-python",
   "name": "python",
   "nbconvert_exporter": "python",
   "pygments_lexer": "ipython3",
   "version": "3.8.5"
  }
 },
 "nbformat": 4,
 "nbformat_minor": 5
}
